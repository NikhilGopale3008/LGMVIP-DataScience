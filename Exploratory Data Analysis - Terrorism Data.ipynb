{
 "cells": [
  {
   "cell_type": "markdown",
   "id": "31735591",
   "metadata": {},
   "source": [
    "# LetsGrowMore #Oct2021\n",
    "\n",
    "## Author :- Nikhil Gopale\n",
    "\n",
    "Task 1 :- Exploratory Data Analysis On Dataset- Terrorism\n",
    "\n",
    "Level :-  Intermediate\n",
    "\n",
    "Programming Language :- Python\n",
    "\n",
    "IDE   :-  Jupyter notebook\n",
    "\n",
    "Dataset :- https://bit.ly/2TK5Xn5 "
   ]
  },
  {
   "cell_type": "markdown",
   "id": "e8bb8711",
   "metadata": {},
   "source": [
    "## Import Libraries \n"
   ]
  },
  {
   "cell_type": "code",
   "execution_count": 1,
   "id": "b9e6ac4b",
   "metadata": {},
   "outputs": [],
   "source": [
    "import pandas as pd\n",
    "import numpy as np\n",
    "import seaborn as sns\n",
    "from matplotlib import pyplot as plt\n",
    "\n",
    "import warnings\n",
    "warnings.filterwarnings(\"ignore\")"
   ]
  },
  {
   "cell_type": "markdown",
   "id": "b2af1b34",
   "metadata": {},
   "source": [
    "## Loading Dataset and Display  Data"
   ]
  },
  {
   "cell_type": "code",
   "execution_count": 2,
   "id": "69be6fca",
   "metadata": {},
   "outputs": [
    {
     "data": {
      "text/html": [
       "<div>\n",
       "<style scoped>\n",
       "    .dataframe tbody tr th:only-of-type {\n",
       "        vertical-align: middle;\n",
       "    }\n",
       "\n",
       "    .dataframe tbody tr th {\n",
       "        vertical-align: top;\n",
       "    }\n",
       "\n",
       "    .dataframe thead th {\n",
       "        text-align: right;\n",
       "    }\n",
       "</style>\n",
       "<table border=\"1\" class=\"dataframe\">\n",
       "  <thead>\n",
       "    <tr style=\"text-align: right;\">\n",
       "      <th></th>\n",
       "      <th>eventid</th>\n",
       "      <th>iyear</th>\n",
       "      <th>imonth</th>\n",
       "      <th>iday</th>\n",
       "      <th>approxdate</th>\n",
       "      <th>extended</th>\n",
       "      <th>resolution</th>\n",
       "      <th>country</th>\n",
       "      <th>country_txt</th>\n",
       "      <th>region</th>\n",
       "      <th>...</th>\n",
       "      <th>addnotes</th>\n",
       "      <th>scite1</th>\n",
       "      <th>scite2</th>\n",
       "      <th>scite3</th>\n",
       "      <th>dbsource</th>\n",
       "      <th>INT_LOG</th>\n",
       "      <th>INT_IDEO</th>\n",
       "      <th>INT_MISC</th>\n",
       "      <th>INT_ANY</th>\n",
       "      <th>related</th>\n",
       "    </tr>\n",
       "  </thead>\n",
       "  <tbody>\n",
       "    <tr>\n",
       "      <th>0</th>\n",
       "      <td>1.970000e+11</td>\n",
       "      <td>1970</td>\n",
       "      <td>7</td>\n",
       "      <td>2</td>\n",
       "      <td>NaN</td>\n",
       "      <td>0</td>\n",
       "      <td>NaN</td>\n",
       "      <td>58</td>\n",
       "      <td>Dominican Republic</td>\n",
       "      <td>2</td>\n",
       "      <td>...</td>\n",
       "      <td>NaN</td>\n",
       "      <td>NaN</td>\n",
       "      <td>NaN</td>\n",
       "      <td>NaN</td>\n",
       "      <td>PGIS</td>\n",
       "      <td>0</td>\n",
       "      <td>0</td>\n",
       "      <td>0</td>\n",
       "      <td>0</td>\n",
       "      <td>NaN</td>\n",
       "    </tr>\n",
       "    <tr>\n",
       "      <th>1</th>\n",
       "      <td>1.970000e+11</td>\n",
       "      <td>1970</td>\n",
       "      <td>0</td>\n",
       "      <td>0</td>\n",
       "      <td>NaN</td>\n",
       "      <td>0</td>\n",
       "      <td>NaN</td>\n",
       "      <td>130</td>\n",
       "      <td>Mexico</td>\n",
       "      <td>1</td>\n",
       "      <td>...</td>\n",
       "      <td>NaN</td>\n",
       "      <td>NaN</td>\n",
       "      <td>NaN</td>\n",
       "      <td>NaN</td>\n",
       "      <td>PGIS</td>\n",
       "      <td>0</td>\n",
       "      <td>1</td>\n",
       "      <td>1</td>\n",
       "      <td>1</td>\n",
       "      <td>NaN</td>\n",
       "    </tr>\n",
       "    <tr>\n",
       "      <th>2</th>\n",
       "      <td>1.970000e+11</td>\n",
       "      <td>1970</td>\n",
       "      <td>1</td>\n",
       "      <td>0</td>\n",
       "      <td>NaN</td>\n",
       "      <td>0</td>\n",
       "      <td>NaN</td>\n",
       "      <td>160</td>\n",
       "      <td>Philippines</td>\n",
       "      <td>5</td>\n",
       "      <td>...</td>\n",
       "      <td>NaN</td>\n",
       "      <td>NaN</td>\n",
       "      <td>NaN</td>\n",
       "      <td>NaN</td>\n",
       "      <td>PGIS</td>\n",
       "      <td>-9</td>\n",
       "      <td>-9</td>\n",
       "      <td>1</td>\n",
       "      <td>1</td>\n",
       "      <td>NaN</td>\n",
       "    </tr>\n",
       "    <tr>\n",
       "      <th>3</th>\n",
       "      <td>1.970000e+11</td>\n",
       "      <td>1970</td>\n",
       "      <td>1</td>\n",
       "      <td>0</td>\n",
       "      <td>NaN</td>\n",
       "      <td>0</td>\n",
       "      <td>NaN</td>\n",
       "      <td>78</td>\n",
       "      <td>Greece</td>\n",
       "      <td>8</td>\n",
       "      <td>...</td>\n",
       "      <td>NaN</td>\n",
       "      <td>NaN</td>\n",
       "      <td>NaN</td>\n",
       "      <td>NaN</td>\n",
       "      <td>PGIS</td>\n",
       "      <td>-9</td>\n",
       "      <td>-9</td>\n",
       "      <td>1</td>\n",
       "      <td>1</td>\n",
       "      <td>NaN</td>\n",
       "    </tr>\n",
       "    <tr>\n",
       "      <th>4</th>\n",
       "      <td>1.970000e+11</td>\n",
       "      <td>1970</td>\n",
       "      <td>1</td>\n",
       "      <td>0</td>\n",
       "      <td>NaN</td>\n",
       "      <td>0</td>\n",
       "      <td>NaN</td>\n",
       "      <td>101</td>\n",
       "      <td>Japan</td>\n",
       "      <td>4</td>\n",
       "      <td>...</td>\n",
       "      <td>NaN</td>\n",
       "      <td>NaN</td>\n",
       "      <td>NaN</td>\n",
       "      <td>NaN</td>\n",
       "      <td>PGIS</td>\n",
       "      <td>-9</td>\n",
       "      <td>-9</td>\n",
       "      <td>1</td>\n",
       "      <td>1</td>\n",
       "      <td>NaN</td>\n",
       "    </tr>\n",
       "  </tbody>\n",
       "</table>\n",
       "<p>5 rows × 135 columns</p>\n",
       "</div>"
      ],
      "text/plain": [
       "        eventid  iyear  imonth  iday approxdate  extended resolution  country  \\\n",
       "0  1.970000e+11   1970       7     2        NaN         0        NaN       58   \n",
       "1  1.970000e+11   1970       0     0        NaN         0        NaN      130   \n",
       "2  1.970000e+11   1970       1     0        NaN         0        NaN      160   \n",
       "3  1.970000e+11   1970       1     0        NaN         0        NaN       78   \n",
       "4  1.970000e+11   1970       1     0        NaN         0        NaN      101   \n",
       "\n",
       "          country_txt  region  ... addnotes scite1 scite2  scite3  dbsource  \\\n",
       "0  Dominican Republic       2  ...      NaN    NaN    NaN     NaN      PGIS   \n",
       "1              Mexico       1  ...      NaN    NaN    NaN     NaN      PGIS   \n",
       "2         Philippines       5  ...      NaN    NaN    NaN     NaN      PGIS   \n",
       "3              Greece       8  ...      NaN    NaN    NaN     NaN      PGIS   \n",
       "4               Japan       4  ...      NaN    NaN    NaN     NaN      PGIS   \n",
       "\n",
       "   INT_LOG  INT_IDEO INT_MISC INT_ANY  related  \n",
       "0        0         0        0       0      NaN  \n",
       "1        0         1        1       1      NaN  \n",
       "2       -9        -9        1       1      NaN  \n",
       "3       -9        -9        1       1      NaN  \n",
       "4       -9        -9        1       1      NaN  \n",
       "\n",
       "[5 rows x 135 columns]"
      ]
     },
     "execution_count": 2,
     "metadata": {},
     "output_type": "execute_result"
    }
   ],
   "source": [
    "data = pd.read_csv(\"globalterrorismdb.csv\")\n",
    "data.head()"
   ]
  },
  {
   "cell_type": "markdown",
   "id": "58ce4400",
   "metadata": {},
   "source": [
    "## EDA - Exploratory  Data Analysis For Global Terrorism  "
   ]
  },
  {
   "cell_type": "markdown",
   "id": "f3e4b372",
   "metadata": {},
   "source": [
    "### Check Shape of Data"
   ]
  },
  {
   "cell_type": "code",
   "execution_count": 3,
   "id": "6628e867",
   "metadata": {},
   "outputs": [
    {
     "data": {
      "text/plain": [
       "(181691, 135)"
      ]
     },
     "execution_count": 3,
     "metadata": {},
     "output_type": "execute_result"
    }
   ],
   "source": [
    "data.shape     \n",
    "# (Row, Column)"
   ]
  },
  {
   "cell_type": "markdown",
   "id": "9bfc56ca",
   "metadata": {},
   "source": [
    "### Renaming All Columns Name"
   ]
  },
  {
   "cell_type": "code",
   "execution_count": 4,
   "id": "5d62c111",
   "metadata": {},
   "outputs": [
    {
     "data": {
      "text/plain": [
       "['eventid',\n",
       " 'iyear',\n",
       " 'imonth',\n",
       " 'iday',\n",
       " 'approxdate',\n",
       " 'extended',\n",
       " 'resolution',\n",
       " 'country',\n",
       " 'country_txt',\n",
       " 'region',\n",
       " 'region_txt',\n",
       " 'provstate',\n",
       " 'city',\n",
       " 'latitude',\n",
       " 'longitude',\n",
       " 'specificity',\n",
       " 'vicinity',\n",
       " 'location',\n",
       " 'summary',\n",
       " 'crit1',\n",
       " 'crit2',\n",
       " 'crit3',\n",
       " 'doubtterr',\n",
       " 'alternative',\n",
       " 'alternative_txt',\n",
       " 'multiple',\n",
       " 'success',\n",
       " 'suicide',\n",
       " 'attacktype1',\n",
       " 'attacktype1_txt',\n",
       " 'attacktype2',\n",
       " 'attacktype2_txt',\n",
       " 'attacktype3',\n",
       " 'attacktype3_txt',\n",
       " 'targtype1',\n",
       " 'targtype1_txt',\n",
       " 'targsubtype1',\n",
       " 'targsubtype1_txt',\n",
       " 'corp1',\n",
       " 'target1',\n",
       " 'natlty1',\n",
       " 'natlty1_txt',\n",
       " 'targtype2',\n",
       " 'targtype2_txt',\n",
       " 'targsubtype2',\n",
       " 'targsubtype2_txt',\n",
       " 'corp2',\n",
       " 'target2',\n",
       " 'natlty2',\n",
       " 'natlty2_txt',\n",
       " 'targtype3',\n",
       " 'targtype3_txt',\n",
       " 'targsubtype3',\n",
       " 'targsubtype3_txt',\n",
       " 'corp3',\n",
       " 'target3',\n",
       " 'natlty3',\n",
       " 'natlty3_txt',\n",
       " 'gname',\n",
       " 'gsubname',\n",
       " 'gname2',\n",
       " 'gsubname2',\n",
       " 'gname3',\n",
       " 'gsubname3',\n",
       " 'motive',\n",
       " 'guncertain1',\n",
       " 'guncertain2',\n",
       " 'guncertain3',\n",
       " 'individual',\n",
       " 'nperps',\n",
       " 'nperpcap',\n",
       " 'claimed',\n",
       " 'claimmode',\n",
       " 'claimmode_txt',\n",
       " 'claim2',\n",
       " 'claimmode2',\n",
       " 'claimmode2_txt',\n",
       " 'claim3',\n",
       " 'claimmode3',\n",
       " 'claimmode3_txt',\n",
       " 'compclaim',\n",
       " 'weaptype1',\n",
       " 'weaptype1_txt',\n",
       " 'weapsubtype1',\n",
       " 'weapsubtype1_txt',\n",
       " 'weaptype2',\n",
       " 'weaptype2_txt',\n",
       " 'weapsubtype2',\n",
       " 'weapsubtype2_txt',\n",
       " 'weaptype3',\n",
       " 'weaptype3_txt',\n",
       " 'weapsubtype3',\n",
       " 'weapsubtype3_txt',\n",
       " 'weaptype4',\n",
       " 'weaptype4_txt',\n",
       " 'weapsubtype4',\n",
       " 'weapsubtype4_txt',\n",
       " 'weapdetail',\n",
       " 'nkill',\n",
       " 'nkillus',\n",
       " 'nkillter',\n",
       " 'nwound',\n",
       " 'nwoundus',\n",
       " 'nwoundte',\n",
       " 'property',\n",
       " 'propextent',\n",
       " 'propextent_txt',\n",
       " 'propvalue',\n",
       " 'propcomment',\n",
       " 'ishostkid',\n",
       " 'nhostkid',\n",
       " 'nhostkidus',\n",
       " 'nhours',\n",
       " 'ndays',\n",
       " 'divert',\n",
       " 'kidhijcountry',\n",
       " 'ransom',\n",
       " 'ransomamt',\n",
       " 'ransomamtus',\n",
       " 'ransompaid',\n",
       " 'ransompaidus',\n",
       " 'ransomnote',\n",
       " 'hostkidoutcome',\n",
       " 'hostkidoutcome_txt',\n",
       " 'nreleased',\n",
       " 'addnotes',\n",
       " 'scite1',\n",
       " 'scite2',\n",
       " 'scite3',\n",
       " 'dbsource',\n",
       " 'INT_LOG',\n",
       " 'INT_IDEO',\n",
       " 'INT_MISC',\n",
       " 'INT_ANY',\n",
       " 'related']"
      ]
     },
     "execution_count": 4,
     "metadata": {},
     "output_type": "execute_result"
    }
   ],
   "source": [
    "data.columns.tolist()   # Display All Columns "
   ]
  },
  {
   "cell_type": "code",
   "execution_count": 5,
   "id": "6e847883",
   "metadata": {
    "scrolled": true
   },
   "outputs": [],
   "source": [
    "# Rename Columns\n",
    "\n",
    "data.rename(columns={'eventid':'Event_Id', 'iyear':'Year', 'imonth':'Month', 'iday':'Day',\n",
    "        'country':'Country', 'country_txt':'Country_Name', 'region_txt':'Region','city':'City','latitude':'Latitude',\n",
    " 'longitude':'Longitude',\n",
    " 'attacktype1_txt':'Attack_type','provstate':'State','nkill':'Kills','nwound':'wound',\n",
    " 'targtype1_txt':'Target_type','target1':'Target1',\n",
    " 'gname':'Gang_name','weaptype1_txt':'Weapon_type'},inplace=True)\n",
    "\n"
   ]
  },
  {
   "cell_type": "code",
   "execution_count": 6,
   "id": "340722be",
   "metadata": {},
   "outputs": [
    {
     "data": {
      "text/plain": [
       "Index(['Event_Id', 'Year', 'Month', 'Day', 'approxdate', 'extended',\n",
       "       'resolution', 'Country', 'Country_Name', 'region',\n",
       "       ...\n",
       "       'addnotes', 'scite1', 'scite2', 'scite3', 'dbsource', 'INT_LOG',\n",
       "       'INT_IDEO', 'INT_MISC', 'INT_ANY', 'related'],\n",
       "      dtype='object', length=135)"
      ]
     },
     "execution_count": 6,
     "metadata": {},
     "output_type": "execute_result"
    }
   ],
   "source": [
    "data.columns"
   ]
  },
  {
   "cell_type": "code",
   "execution_count": 7,
   "id": "0f19e4f3",
   "metadata": {},
   "outputs": [
    {
     "data": {
      "text/html": [
       "<div>\n",
       "<style scoped>\n",
       "    .dataframe tbody tr th:only-of-type {\n",
       "        vertical-align: middle;\n",
       "    }\n",
       "\n",
       "    .dataframe tbody tr th {\n",
       "        vertical-align: top;\n",
       "    }\n",
       "\n",
       "    .dataframe thead th {\n",
       "        text-align: right;\n",
       "    }\n",
       "</style>\n",
       "<table border=\"1\" class=\"dataframe\">\n",
       "  <thead>\n",
       "    <tr style=\"text-align: right;\">\n",
       "      <th></th>\n",
       "      <th>Year</th>\n",
       "      <th>Month</th>\n",
       "      <th>Day</th>\n",
       "      <th>Country</th>\n",
       "      <th>Country_Name</th>\n",
       "      <th>State</th>\n",
       "      <th>Region</th>\n",
       "      <th>City</th>\n",
       "      <th>Latitude</th>\n",
       "      <th>Longitude</th>\n",
       "      <th>Attack_type</th>\n",
       "      <th>Target_type</th>\n",
       "      <th>Target1</th>\n",
       "      <th>Gang_name</th>\n",
       "      <th>Weapon_type</th>\n",
       "      <th>Kills</th>\n",
       "      <th>wound</th>\n",
       "    </tr>\n",
       "  </thead>\n",
       "  <tbody>\n",
       "    <tr>\n",
       "      <th>0</th>\n",
       "      <td>1970</td>\n",
       "      <td>7</td>\n",
       "      <td>2</td>\n",
       "      <td>58</td>\n",
       "      <td>Dominican Republic</td>\n",
       "      <td>NaN</td>\n",
       "      <td>Central America &amp; Caribbean</td>\n",
       "      <td>Santo Domingo</td>\n",
       "      <td>18.456792</td>\n",
       "      <td>-69.951164</td>\n",
       "      <td>Assassination</td>\n",
       "      <td>Private Citizens &amp; Property</td>\n",
       "      <td>Julio Guzman</td>\n",
       "      <td>MANO-D</td>\n",
       "      <td>Unknown</td>\n",
       "      <td>1.0</td>\n",
       "      <td>0.0</td>\n",
       "    </tr>\n",
       "    <tr>\n",
       "      <th>1</th>\n",
       "      <td>1970</td>\n",
       "      <td>0</td>\n",
       "      <td>0</td>\n",
       "      <td>130</td>\n",
       "      <td>Mexico</td>\n",
       "      <td>Federal</td>\n",
       "      <td>North America</td>\n",
       "      <td>Mexico city</td>\n",
       "      <td>19.371887</td>\n",
       "      <td>-99.086624</td>\n",
       "      <td>Hostage Taking (Kidnapping)</td>\n",
       "      <td>Government (Diplomatic)</td>\n",
       "      <td>Nadine Chaval, daughter</td>\n",
       "      <td>23rd of September Communist League</td>\n",
       "      <td>Unknown</td>\n",
       "      <td>0.0</td>\n",
       "      <td>0.0</td>\n",
       "    </tr>\n",
       "    <tr>\n",
       "      <th>2</th>\n",
       "      <td>1970</td>\n",
       "      <td>1</td>\n",
       "      <td>0</td>\n",
       "      <td>160</td>\n",
       "      <td>Philippines</td>\n",
       "      <td>Tarlac</td>\n",
       "      <td>Southeast Asia</td>\n",
       "      <td>Unknown</td>\n",
       "      <td>15.478598</td>\n",
       "      <td>120.599741</td>\n",
       "      <td>Assassination</td>\n",
       "      <td>Journalists &amp; Media</td>\n",
       "      <td>Employee</td>\n",
       "      <td>Unknown</td>\n",
       "      <td>Unknown</td>\n",
       "      <td>1.0</td>\n",
       "      <td>0.0</td>\n",
       "    </tr>\n",
       "    <tr>\n",
       "      <th>3</th>\n",
       "      <td>1970</td>\n",
       "      <td>1</td>\n",
       "      <td>0</td>\n",
       "      <td>78</td>\n",
       "      <td>Greece</td>\n",
       "      <td>Attica</td>\n",
       "      <td>Western Europe</td>\n",
       "      <td>Athens</td>\n",
       "      <td>37.997490</td>\n",
       "      <td>23.762728</td>\n",
       "      <td>Bombing/Explosion</td>\n",
       "      <td>Government (Diplomatic)</td>\n",
       "      <td>U.S. Embassy</td>\n",
       "      <td>Unknown</td>\n",
       "      <td>Explosives</td>\n",
       "      <td>NaN</td>\n",
       "      <td>NaN</td>\n",
       "    </tr>\n",
       "    <tr>\n",
       "      <th>4</th>\n",
       "      <td>1970</td>\n",
       "      <td>1</td>\n",
       "      <td>0</td>\n",
       "      <td>101</td>\n",
       "      <td>Japan</td>\n",
       "      <td>Fukouka</td>\n",
       "      <td>East Asia</td>\n",
       "      <td>Fukouka</td>\n",
       "      <td>33.580412</td>\n",
       "      <td>130.396361</td>\n",
       "      <td>Facility/Infrastructure Attack</td>\n",
       "      <td>Government (Diplomatic)</td>\n",
       "      <td>U.S. Consulate</td>\n",
       "      <td>Unknown</td>\n",
       "      <td>Incendiary</td>\n",
       "      <td>NaN</td>\n",
       "      <td>NaN</td>\n",
       "    </tr>\n",
       "  </tbody>\n",
       "</table>\n",
       "</div>"
      ],
      "text/plain": [
       "   Year  Month  Day  Country        Country_Name    State  \\\n",
       "0  1970      7    2       58  Dominican Republic      NaN   \n",
       "1  1970      0    0      130              Mexico  Federal   \n",
       "2  1970      1    0      160         Philippines   Tarlac   \n",
       "3  1970      1    0       78              Greece   Attica   \n",
       "4  1970      1    0      101               Japan  Fukouka   \n",
       "\n",
       "                        Region           City   Latitude   Longitude  \\\n",
       "0  Central America & Caribbean  Santo Domingo  18.456792  -69.951164   \n",
       "1                North America    Mexico city  19.371887  -99.086624   \n",
       "2               Southeast Asia        Unknown  15.478598  120.599741   \n",
       "3               Western Europe         Athens  37.997490   23.762728   \n",
       "4                    East Asia        Fukouka  33.580412  130.396361   \n",
       "\n",
       "                      Attack_type                  Target_type  \\\n",
       "0                   Assassination  Private Citizens & Property   \n",
       "1     Hostage Taking (Kidnapping)      Government (Diplomatic)   \n",
       "2                   Assassination          Journalists & Media   \n",
       "3               Bombing/Explosion      Government (Diplomatic)   \n",
       "4  Facility/Infrastructure Attack      Government (Diplomatic)   \n",
       "\n",
       "                   Target1                           Gang_name Weapon_type  \\\n",
       "0             Julio Guzman                              MANO-D     Unknown   \n",
       "1  Nadine Chaval, daughter  23rd of September Communist League     Unknown   \n",
       "2                 Employee                             Unknown     Unknown   \n",
       "3             U.S. Embassy                             Unknown  Explosives   \n",
       "4           U.S. Consulate                             Unknown  Incendiary   \n",
       "\n",
       "   Kills  wound  \n",
       "0    1.0    0.0  \n",
       "1    0.0    0.0  \n",
       "2    1.0    0.0  \n",
       "3    NaN    NaN  \n",
       "4    NaN    NaN  "
      ]
     },
     "execution_count": 7,
     "metadata": {},
     "output_type": "execute_result"
    }
   ],
   "source": [
    "# Select Specific Columns \n",
    "\n",
    "data=data[['Year','Month','Day','Country','Country_Name','State','Region','City','Latitude','Longitude','Attack_type',\n",
    "           'Target_type','Target1','Gang_name','Weapon_type','Kills','wound']]\n",
    "data.head()"
   ]
  },
  {
   "cell_type": "code",
   "execution_count": null,
   "id": "935c5198",
   "metadata": {},
   "outputs": [],
   "source": []
  },
  {
   "cell_type": "markdown",
   "id": "0b7e7429",
   "metadata": {},
   "source": [
    "### Check Data-Type"
   ]
  },
  {
   "cell_type": "code",
   "execution_count": 8,
   "id": "412f8109",
   "metadata": {},
   "outputs": [
    {
     "data": {
      "text/plain": [
       "Year              int64\n",
       "Month             int64\n",
       "Day               int64\n",
       "Country           int64\n",
       "Country_Name     object\n",
       "State            object\n",
       "Region           object\n",
       "City             object\n",
       "Latitude        float64\n",
       "Longitude       float64\n",
       "Attack_type      object\n",
       "Target_type      object\n",
       "Target1          object\n",
       "Gang_name        object\n",
       "Weapon_type      object\n",
       "Kills           float64\n",
       "wound           float64\n",
       "dtype: object"
      ]
     },
     "execution_count": 8,
     "metadata": {},
     "output_type": "execute_result"
    }
   ],
   "source": [
    "data.dtypes"
   ]
  },
  {
   "cell_type": "markdown",
   "id": "e29e657d",
   "metadata": {},
   "source": [
    "## Find Information About Data"
   ]
  },
  {
   "cell_type": "code",
   "execution_count": 9,
   "id": "17c161fa",
   "metadata": {},
   "outputs": [
    {
     "name": "stdout",
     "output_type": "stream",
     "text": [
      "<class 'pandas.core.frame.DataFrame'>\n",
      "RangeIndex: 181691 entries, 0 to 181690\n",
      "Data columns (total 17 columns):\n",
      " #   Column        Non-Null Count   Dtype  \n",
      "---  ------        --------------   -----  \n",
      " 0   Year          181691 non-null  int64  \n",
      " 1   Month         181691 non-null  int64  \n",
      " 2   Day           181691 non-null  int64  \n",
      " 3   Country       181691 non-null  int64  \n",
      " 4   Country_Name  181691 non-null  object \n",
      " 5   State         181270 non-null  object \n",
      " 6   Region        181691 non-null  object \n",
      " 7   City          181257 non-null  object \n",
      " 8   Latitude      177135 non-null  float64\n",
      " 9   Longitude     177134 non-null  float64\n",
      " 10  Attack_type   181691 non-null  object \n",
      " 11  Target_type   181691 non-null  object \n",
      " 12  Target1       181055 non-null  object \n",
      " 13  Gang_name     181691 non-null  object \n",
      " 14  Weapon_type   181691 non-null  object \n",
      " 15  Kills         171378 non-null  float64\n",
      " 16  wound         165380 non-null  float64\n",
      "dtypes: float64(4), int64(4), object(9)\n",
      "memory usage: 23.6+ MB\n"
     ]
    }
   ],
   "source": [
    "data.info()"
   ]
  },
  {
   "cell_type": "markdown",
   "id": "aad53ea8",
   "metadata": {},
   "source": [
    "### Check Summary Statistics"
   ]
  },
  {
   "cell_type": "code",
   "execution_count": 10,
   "id": "d0efa0bd",
   "metadata": {},
   "outputs": [
    {
     "data": {
      "text/html": [
       "<div>\n",
       "<style scoped>\n",
       "    .dataframe tbody tr th:only-of-type {\n",
       "        vertical-align: middle;\n",
       "    }\n",
       "\n",
       "    .dataframe tbody tr th {\n",
       "        vertical-align: top;\n",
       "    }\n",
       "\n",
       "    .dataframe thead th {\n",
       "        text-align: right;\n",
       "    }\n",
       "</style>\n",
       "<table border=\"1\" class=\"dataframe\">\n",
       "  <thead>\n",
       "    <tr style=\"text-align: right;\">\n",
       "      <th></th>\n",
       "      <th>Year</th>\n",
       "      <th>Month</th>\n",
       "      <th>Day</th>\n",
       "      <th>Country</th>\n",
       "      <th>Latitude</th>\n",
       "      <th>Longitude</th>\n",
       "      <th>Kills</th>\n",
       "      <th>wound</th>\n",
       "    </tr>\n",
       "  </thead>\n",
       "  <tbody>\n",
       "    <tr>\n",
       "      <th>count</th>\n",
       "      <td>181691.000000</td>\n",
       "      <td>181691.000000</td>\n",
       "      <td>181691.000000</td>\n",
       "      <td>181691.000000</td>\n",
       "      <td>177135.000000</td>\n",
       "      <td>1.771340e+05</td>\n",
       "      <td>171378.000000</td>\n",
       "      <td>165380.000000</td>\n",
       "    </tr>\n",
       "    <tr>\n",
       "      <th>mean</th>\n",
       "      <td>2002.638997</td>\n",
       "      <td>6.467277</td>\n",
       "      <td>15.505644</td>\n",
       "      <td>131.968501</td>\n",
       "      <td>23.498343</td>\n",
       "      <td>-4.586957e+02</td>\n",
       "      <td>2.403272</td>\n",
       "      <td>3.167668</td>\n",
       "    </tr>\n",
       "    <tr>\n",
       "      <th>std</th>\n",
       "      <td>13.259430</td>\n",
       "      <td>3.388303</td>\n",
       "      <td>8.814045</td>\n",
       "      <td>112.414535</td>\n",
       "      <td>18.569242</td>\n",
       "      <td>2.047790e+05</td>\n",
       "      <td>11.545741</td>\n",
       "      <td>35.949392</td>\n",
       "    </tr>\n",
       "    <tr>\n",
       "      <th>min</th>\n",
       "      <td>1970.000000</td>\n",
       "      <td>0.000000</td>\n",
       "      <td>0.000000</td>\n",
       "      <td>4.000000</td>\n",
       "      <td>-53.154613</td>\n",
       "      <td>-8.618590e+07</td>\n",
       "      <td>0.000000</td>\n",
       "      <td>0.000000</td>\n",
       "    </tr>\n",
       "    <tr>\n",
       "      <th>25%</th>\n",
       "      <td>1991.000000</td>\n",
       "      <td>4.000000</td>\n",
       "      <td>8.000000</td>\n",
       "      <td>78.000000</td>\n",
       "      <td>11.510046</td>\n",
       "      <td>4.545640e+00</td>\n",
       "      <td>0.000000</td>\n",
       "      <td>0.000000</td>\n",
       "    </tr>\n",
       "    <tr>\n",
       "      <th>50%</th>\n",
       "      <td>2009.000000</td>\n",
       "      <td>6.000000</td>\n",
       "      <td>15.000000</td>\n",
       "      <td>98.000000</td>\n",
       "      <td>31.467463</td>\n",
       "      <td>4.324651e+01</td>\n",
       "      <td>0.000000</td>\n",
       "      <td>0.000000</td>\n",
       "    </tr>\n",
       "    <tr>\n",
       "      <th>75%</th>\n",
       "      <td>2014.000000</td>\n",
       "      <td>9.000000</td>\n",
       "      <td>23.000000</td>\n",
       "      <td>160.000000</td>\n",
       "      <td>34.685087</td>\n",
       "      <td>6.871033e+01</td>\n",
       "      <td>2.000000</td>\n",
       "      <td>2.000000</td>\n",
       "    </tr>\n",
       "    <tr>\n",
       "      <th>max</th>\n",
       "      <td>2017.000000</td>\n",
       "      <td>12.000000</td>\n",
       "      <td>31.000000</td>\n",
       "      <td>1004.000000</td>\n",
       "      <td>74.633553</td>\n",
       "      <td>1.793667e+02</td>\n",
       "      <td>1570.000000</td>\n",
       "      <td>8191.000000</td>\n",
       "    </tr>\n",
       "  </tbody>\n",
       "</table>\n",
       "</div>"
      ],
      "text/plain": [
       "                Year          Month            Day        Country  \\\n",
       "count  181691.000000  181691.000000  181691.000000  181691.000000   \n",
       "mean     2002.638997       6.467277      15.505644     131.968501   \n",
       "std        13.259430       3.388303       8.814045     112.414535   \n",
       "min      1970.000000       0.000000       0.000000       4.000000   \n",
       "25%      1991.000000       4.000000       8.000000      78.000000   \n",
       "50%      2009.000000       6.000000      15.000000      98.000000   \n",
       "75%      2014.000000       9.000000      23.000000     160.000000   \n",
       "max      2017.000000      12.000000      31.000000    1004.000000   \n",
       "\n",
       "            Latitude     Longitude          Kills          wound  \n",
       "count  177135.000000  1.771340e+05  171378.000000  165380.000000  \n",
       "mean       23.498343 -4.586957e+02       2.403272       3.167668  \n",
       "std        18.569242  2.047790e+05      11.545741      35.949392  \n",
       "min       -53.154613 -8.618590e+07       0.000000       0.000000  \n",
       "25%        11.510046  4.545640e+00       0.000000       0.000000  \n",
       "50%        31.467463  4.324651e+01       0.000000       0.000000  \n",
       "75%        34.685087  6.871033e+01       2.000000       2.000000  \n",
       "max        74.633553  1.793667e+02    1570.000000    8191.000000  "
      ]
     },
     "execution_count": 10,
     "metadata": {},
     "output_type": "execute_result"
    }
   ],
   "source": [
    "data.describe()"
   ]
  },
  {
   "cell_type": "code",
   "execution_count": null,
   "id": "12a2cd7a",
   "metadata": {},
   "outputs": [],
   "source": []
  },
  {
   "cell_type": "markdown",
   "id": "92ebb589",
   "metadata": {},
   "source": [
    "## Data Cleaning Process"
   ]
  },
  {
   "cell_type": "markdown",
   "id": "15c0df8b",
   "metadata": {},
   "source": [
    "### Find Null Values"
   ]
  },
  {
   "cell_type": "code",
   "execution_count": 11,
   "id": "d37e5080",
   "metadata": {},
   "outputs": [
    {
     "data": {
      "text/plain": [
       "Year                0\n",
       "Month               0\n",
       "Day                 0\n",
       "Country             0\n",
       "Country_Name        0\n",
       "State             421\n",
       "Region              0\n",
       "City              434\n",
       "Latitude         4556\n",
       "Longitude        4557\n",
       "Attack_type         0\n",
       "Target_type         0\n",
       "Target1           636\n",
       "Gang_name           0\n",
       "Weapon_type         0\n",
       "Kills           10313\n",
       "wound           16311\n",
       "dtype: int64"
      ]
     },
     "execution_count": 11,
     "metadata": {},
     "output_type": "execute_result"
    }
   ],
   "source": [
    "# Check null values and then SUM it up\n",
    "\n",
    "data.isnull().sum()"
   ]
  },
  {
   "cell_type": "markdown",
   "id": "c746a629",
   "metadata": {},
   "source": [
    "### Let's Fill Nan Values"
   ]
  },
  {
   "cell_type": "code",
   "execution_count": 12,
   "id": "4dbc254b",
   "metadata": {},
   "outputs": [],
   "source": [
    "data.replace(np.nan,0,inplace=True)    # fill nan value with 0\n"
   ]
  },
  {
   "cell_type": "code",
   "execution_count": 13,
   "id": "08be4f7c",
   "metadata": {},
   "outputs": [
    {
     "data": {
      "text/plain": [
       "Year            0\n",
       "Month           0\n",
       "Day             0\n",
       "Country         0\n",
       "Country_Name    0\n",
       "State           0\n",
       "Region          0\n",
       "City            0\n",
       "Latitude        0\n",
       "Longitude       0\n",
       "Attack_type     0\n",
       "Target_type     0\n",
       "Target1         0\n",
       "Gang_name       0\n",
       "Weapon_type     0\n",
       "Kills           0\n",
       "wound           0\n",
       "dtype: int64"
      ]
     },
     "execution_count": 13,
     "metadata": {},
     "output_type": "execute_result"
    }
   ],
   "source": [
    "data.isna().sum()"
   ]
  },
  {
   "cell_type": "markdown",
   "id": "fc6230bb",
   "metadata": {},
   "source": [
    "### Change Data Type"
   ]
  },
  {
   "cell_type": "code",
   "execution_count": 14,
   "id": "91e14f2b",
   "metadata": {},
   "outputs": [],
   "source": [
    "data['Kills']=data['Kills'].astype('int')\n",
    "data['wound']=data['wound'].astype('int')"
   ]
  },
  {
   "cell_type": "markdown",
   "id": "d11dfc01",
   "metadata": {},
   "source": [
    "### Find Duplicates Value And Drop Duplicates\n"
   ]
  },
  {
   "cell_type": "code",
   "execution_count": 15,
   "id": "93ee7dd4",
   "metadata": {},
   "outputs": [
    {
     "data": {
      "text/plain": [
       "10695"
      ]
     },
     "execution_count": 15,
     "metadata": {},
     "output_type": "execute_result"
    }
   ],
   "source": [
    "data.duplicated().sum()"
   ]
  },
  {
   "cell_type": "code",
   "execution_count": 16,
   "id": "72b1693b",
   "metadata": {},
   "outputs": [],
   "source": [
    "data.drop_duplicates(inplace=True)"
   ]
  },
  {
   "cell_type": "code",
   "execution_count": 17,
   "id": "e74e5bba",
   "metadata": {},
   "outputs": [
    {
     "data": {
      "text/plain": [
       "0"
      ]
     },
     "execution_count": 17,
     "metadata": {},
     "output_type": "execute_result"
    }
   ],
   "source": [
    "data.duplicated().sum()"
   ]
  },
  {
   "cell_type": "code",
   "execution_count": 18,
   "id": "854e084f",
   "metadata": {},
   "outputs": [
    {
     "data": {
      "text/plain": [
       "Index(['Year', 'Month', 'Day', 'Country', 'Country_Name', 'State', 'Region',\n",
       "       'City', 'Latitude', 'Longitude', 'Attack_type', 'Target_type',\n",
       "       'Target1', 'Gang_name', 'Weapon_type', 'Kills', 'wound'],\n",
       "      dtype='object')"
      ]
     },
     "execution_count": 18,
     "metadata": {},
     "output_type": "execute_result"
    }
   ],
   "source": [
    "data.columns"
   ]
  },
  {
   "cell_type": "code",
   "execution_count": 60,
   "id": "6e015d35",
   "metadata": {},
   "outputs": [
    {
     "data": {
      "text/html": [
       "<div>\n",
       "<style scoped>\n",
       "    .dataframe tbody tr th:only-of-type {\n",
       "        vertical-align: middle;\n",
       "    }\n",
       "\n",
       "    .dataframe tbody tr th {\n",
       "        vertical-align: top;\n",
       "    }\n",
       "\n",
       "    .dataframe thead th {\n",
       "        text-align: right;\n",
       "    }\n",
       "</style>\n",
       "<table border=\"1\" class=\"dataframe\">\n",
       "  <thead>\n",
       "    <tr style=\"text-align: right;\">\n",
       "      <th></th>\n",
       "      <th>Year</th>\n",
       "      <th>Month</th>\n",
       "      <th>Day</th>\n",
       "      <th>Country</th>\n",
       "      <th>Country_Name</th>\n",
       "      <th>State</th>\n",
       "      <th>Region</th>\n",
       "      <th>City</th>\n",
       "      <th>Latitude</th>\n",
       "      <th>Longitude</th>\n",
       "      <th>Attack_type</th>\n",
       "      <th>Target_type</th>\n",
       "      <th>Target1</th>\n",
       "      <th>Gang_name</th>\n",
       "      <th>Weapon_type</th>\n",
       "      <th>Kills</th>\n",
       "      <th>wound</th>\n",
       "    </tr>\n",
       "  </thead>\n",
       "  <tbody>\n",
       "    <tr>\n",
       "      <th>55934</th>\n",
       "      <td>1994</td>\n",
       "      <td>4</td>\n",
       "      <td>13</td>\n",
       "      <td>168</td>\n",
       "      <td>Rwanda</td>\n",
       "      <td>Kigali</td>\n",
       "      <td>Sub-Saharan Africa</td>\n",
       "      <td>Gikoro</td>\n",
       "      <td>-1.932787</td>\n",
       "      <td>30.332456</td>\n",
       "      <td>Armed Assault</td>\n",
       "      <td>Private Citizens &amp; Property</td>\n",
       "      <td>Group of Tutsi Refugees inside Catholic Church</td>\n",
       "      <td>Hutu extremists</td>\n",
       "      <td>Firearms</td>\n",
       "      <td>1180</td>\n",
       "      <td>0</td>\n",
       "    </tr>\n",
       "    <tr>\n",
       "      <th>73126</th>\n",
       "      <td>2001</td>\n",
       "      <td>9</td>\n",
       "      <td>11</td>\n",
       "      <td>217</td>\n",
       "      <td>United States</td>\n",
       "      <td>New York</td>\n",
       "      <td>North America</td>\n",
       "      <td>New York City</td>\n",
       "      <td>40.697132</td>\n",
       "      <td>-73.931351</td>\n",
       "      <td>Hijacking</td>\n",
       "      <td>Private Citizens &amp; Property</td>\n",
       "      <td>Passengers and crew members on American Airlin...</td>\n",
       "      <td>Al-Qaida</td>\n",
       "      <td>Vehicle (not to include vehicle-borne explosiv...</td>\n",
       "      <td>1384</td>\n",
       "      <td>8190</td>\n",
       "    </tr>\n",
       "    <tr>\n",
       "      <th>73127</th>\n",
       "      <td>2001</td>\n",
       "      <td>9</td>\n",
       "      <td>11</td>\n",
       "      <td>217</td>\n",
       "      <td>United States</td>\n",
       "      <td>New York</td>\n",
       "      <td>North America</td>\n",
       "      <td>New York City</td>\n",
       "      <td>40.697132</td>\n",
       "      <td>-73.931351</td>\n",
       "      <td>Hijacking</td>\n",
       "      <td>Private Citizens &amp; Property</td>\n",
       "      <td>Passengers and crew members on United Airlines...</td>\n",
       "      <td>Al-Qaida</td>\n",
       "      <td>Vehicle (not to include vehicle-borne explosiv...</td>\n",
       "      <td>1383</td>\n",
       "      <td>8191</td>\n",
       "    </tr>\n",
       "    <tr>\n",
       "      <th>133518</th>\n",
       "      <td>2014</td>\n",
       "      <td>6</td>\n",
       "      <td>12</td>\n",
       "      <td>95</td>\n",
       "      <td>Iraq</td>\n",
       "      <td>Saladin</td>\n",
       "      <td>Middle East &amp; North Africa</td>\n",
       "      <td>Tikrit</td>\n",
       "      <td>34.621521</td>\n",
       "      <td>43.668377</td>\n",
       "      <td>Hostage Taking (Kidnapping)</td>\n",
       "      <td>Military</td>\n",
       "      <td>Soldiers</td>\n",
       "      <td>Islamic State of Iraq and the Levant (ISIL)</td>\n",
       "      <td>Firearms</td>\n",
       "      <td>1570</td>\n",
       "      <td>0</td>\n",
       "    </tr>\n",
       "  </tbody>\n",
       "</table>\n",
       "</div>"
      ],
      "text/plain": [
       "        Year  Month  Day  Country   Country_Name     State  \\\n",
       "55934   1994      4   13      168         Rwanda    Kigali   \n",
       "73126   2001      9   11      217  United States  New York   \n",
       "73127   2001      9   11      217  United States  New York   \n",
       "133518  2014      6   12       95           Iraq   Saladin   \n",
       "\n",
       "                            Region           City   Latitude  Longitude  \\\n",
       "55934           Sub-Saharan Africa         Gikoro  -1.932787  30.332456   \n",
       "73126                North America  New York City  40.697132 -73.931351   \n",
       "73127                North America  New York City  40.697132 -73.931351   \n",
       "133518  Middle East & North Africa         Tikrit  34.621521  43.668377   \n",
       "\n",
       "                        Attack_type                  Target_type  \\\n",
       "55934                 Armed Assault  Private Citizens & Property   \n",
       "73126                     Hijacking  Private Citizens & Property   \n",
       "73127                     Hijacking  Private Citizens & Property   \n",
       "133518  Hostage Taking (Kidnapping)                     Military   \n",
       "\n",
       "                                                  Target1  \\\n",
       "55934      Group of Tutsi Refugees inside Catholic Church   \n",
       "73126   Passengers and crew members on American Airlin...   \n",
       "73127   Passengers and crew members on United Airlines...   \n",
       "133518                                           Soldiers   \n",
       "\n",
       "                                          Gang_name  \\\n",
       "55934                               Hutu extremists   \n",
       "73126                                      Al-Qaida   \n",
       "73127                                      Al-Qaida   \n",
       "133518  Islamic State of Iraq and the Levant (ISIL)   \n",
       "\n",
       "                                              Weapon_type  Kills  wound  \n",
       "55934                                            Firearms   1180      0  \n",
       "73126   Vehicle (not to include vehicle-borne explosiv...   1384   8190  \n",
       "73127   Vehicle (not to include vehicle-borne explosiv...   1383   8191  \n",
       "133518                                           Firearms   1570      0  "
      ]
     },
     "execution_count": 60,
     "metadata": {},
     "output_type": "execute_result"
    }
   ],
   "source": [
    "data_kills=data[data['Kills']>=1000]\n",
    "data_kills"
   ]
  },
  {
   "cell_type": "markdown",
   "id": "1b36896b",
   "metadata": {},
   "source": [
    "##  Data Visualization "
   ]
  },
  {
   "cell_type": "code",
   "execution_count": null,
   "id": "607a5491",
   "metadata": {},
   "outputs": [],
   "source": []
  },
  {
   "cell_type": "code",
   "execution_count": 20,
   "id": "a56d2b62",
   "metadata": {},
   "outputs": [
    {
     "data": {
      "image/png": "[encoded data removed]",
      "text/plain": [
       "<Figure size 1080x432 with 1 Axes>"
      ]
     },
     "metadata": {
      "needs_background": "light"
     },
     "output_type": "display_data"
    }
   ],
   "source": [
    "plt.subplots(figsize=(15,6))\n",
    "sns.countplot('Year',data=data,palette='RdYlGn_r',edgecolor=sns.color_palette('dark',7))\n",
    "plt.title(\"Number of Terrorist Attack Each Year\")\n",
    "plt.xticks(rotation=90)\n",
    "plt.show()"
   ]
  },
  {
   "cell_type": "markdown",
   "id": "58068e5f",
   "metadata": {},
   "source": [
    "### Conclusion  :- As you can see, the highest number of terrorist attacks took place in 2014"
   ]
  },
  {
   "cell_type": "code",
   "execution_count": null,
   "id": "7d78eda4",
   "metadata": {},
   "outputs": [],
   "source": []
  },
  {
   "cell_type": "code",
   "execution_count": 21,
   "id": "88b6a556",
   "metadata": {},
   "outputs": [
    {
     "data": {
      "image/png": "[encoded data removed]",
      "text/plain": [
       "<Figure size 1080x432 with 1 Axes>"
      ]
     },
     "metadata": {
      "needs_background": "light"
     },
     "output_type": "display_data"
    }
   ],
   "source": [
    "plt.subplots(figsize=(15,6))\n",
    "sns.countplot('Attack_type',data=data,palette='RdYlGn_r',edgecolor=sns.color_palette('dark',7))\n",
    "plt.title(\" Terrorist Attack Type\")\n",
    "plt.xticks(rotation=90)\n",
    "plt.show()"
   ]
  },
  {
   "cell_type": "markdown",
   "id": "bdd420ea",
   "metadata": {},
   "source": [
    "### conclusion- The Most Commonly used type of attack is Bombing/Explosion"
   ]
  },
  {
   "cell_type": "code",
   "execution_count": null,
   "id": "e4839cfb",
   "metadata": {},
   "outputs": [],
   "source": []
  },
  {
   "cell_type": "code",
   "execution_count": 22,
   "id": "9d247f23",
   "metadata": {},
   "outputs": [
    {
     "data": {
      "image/png": "[encoded data removed]",
      "text/plain": [
       "<Figure size 1080x432 with 1 Axes>"
      ]
     },
     "metadata": {
      "needs_background": "light"
     },
     "output_type": "display_data"
    }
   ],
   "source": [
    "plt.subplots(figsize=(15,6))\n",
    "sns.countplot('Region',data=data,palette='RdYlGn_r',edgecolor=sns.color_palette('dark',7),\n",
    "              order=data['Region'].value_counts().index)\n",
    "plt.title(\" Number of Terrorist Activities by Region\")\n",
    "plt.xticks(rotation=90)\n",
    "plt.show()"
   ]
  },
  {
   "cell_type": "markdown",
   "id": "d3c7c445",
   "metadata": {},
   "source": [
    "### Conclusion-  Most Affected Region of Terrorist Attacks "
   ]
  },
  {
   "cell_type": "code",
   "execution_count": null,
   "id": "78168090",
   "metadata": {},
   "outputs": [],
   "source": []
  },
  {
   "cell_type": "code",
   "execution_count": null,
   "id": "99d8e088",
   "metadata": {},
   "outputs": [],
   "source": []
  },
  {
   "cell_type": "code",
   "execution_count": 23,
   "id": "53855df7",
   "metadata": {},
   "outputs": [
    {
     "data": {
      "image/png": "[encoded data removed]",
      "text/plain": [
       "<Figure size 720x360 with 1 Axes>"
      ]
     },
     "metadata": {
      "needs_background": "light"
     },
     "output_type": "display_data"
    }
   ],
   "source": [
    "sns.barplot(data['Gang_name'].value_counts()[0:15][1:].values,\n",
    "            data['Gang_name'].value_counts()[0:15][1:].index,palette=('RdYlGn_r'))\n",
    "plt.xticks(rotation=90)\n",
    "fig=plt.gcf()\n",
    "fig.set_size_inches(10,5)\n",
    "plt.title('Terrorist Gang with highest attacks')\n",
    "plt.show()"
   ]
  },
  {
   "cell_type": "markdown",
   "id": "065f22db",
   "metadata": {},
   "source": [
    "### Conclusion :- The Taliban have carried out the most Attacks...."
   ]
  },
  {
   "cell_type": "code",
   "execution_count": null,
   "id": "de9be078",
   "metadata": {},
   "outputs": [],
   "source": []
  },
  {
   "cell_type": "code",
   "execution_count": 24,
   "id": "6ffd2203",
   "metadata": {},
   "outputs": [
    {
     "data": {
      "image/png": "[encoded data removed]",
      "text/plain": [
       "<Figure size 432x432 with 1 Axes>"
      ]
     },
     "metadata": {},
     "output_type": "display_data"
    }
   ],
   "source": [
    "plt.figure(figsize=(6,6))\n",
    "\n",
    "data['Weapon_type'].value_counts()[:5].plot.pie(autopct=\"%1.1f%%\")\n",
    "plt.title('Most Used Weapon type')\n",
    "plt.show()"
   ]
  },
  {
   "cell_type": "markdown",
   "id": "f23c9ce0",
   "metadata": {},
   "source": [
    "### conclusion:- The most commonly used Weapon type is explosives..."
   ]
  },
  {
   "cell_type": "code",
   "execution_count": null,
   "id": "2e6e41b4",
   "metadata": {},
   "outputs": [],
   "source": []
  },
  {
   "cell_type": "code",
   "execution_count": 25,
   "id": "9a608336",
   "metadata": {},
   "outputs": [
    {
     "data": {
      "image/png": "[encoded data removed]",
      "text/plain": [
       "<Figure size 1080x360 with 1 Axes>"
      ]
     },
     "metadata": {
      "needs_background": "light"
     },
     "output_type": "display_data"
    }
   ],
   "source": [
    "plt.figure(figsize=(15,5))\n",
    "x = data['Country_Name'].value_counts().index[:5]\n",
    "y = data['Country_Name'].value_counts().values[:5]\n",
    "sns.barplot(x,y,palette='RdYlGn_r')\n",
    "plt.title('TOP 5 Countries Affected by Terrorism',size=20)\n",
    "plt.xlabel(\"Countries\",size=15)\n",
    "plt.ylabel(\"No of Terrorist attacks\",size=15)\n",
    "plt.xticks(size=13,rotation=90)\n",
    "plt.show()"
   ]
  },
  {
   "cell_type": "markdown",
   "id": "d805e996",
   "metadata": {},
   "source": [
    "### Conclusion- Iraq has the highest number of terrorist attacks"
   ]
  },
  {
   "cell_type": "code",
   "execution_count": null,
   "id": "4d77aa40",
   "metadata": {},
   "outputs": [],
   "source": []
  },
  {
   "cell_type": "code",
   "execution_count": 26,
   "id": "b6143c93",
   "metadata": {},
   "outputs": [
    {
     "data": {
      "image/png": "[encoded data removed]",
      "text/plain": [
       "<Figure size 1800x576 with 1 Axes>"
      ]
     },
     "metadata": {
      "needs_background": "light"
     },
     "output_type": "display_data"
    }
   ],
   "source": [
    "plt.figure(figsize=(25,8))\n",
    "sns.barplot(data['Target_type'].index,data['Target_type'].values)\n",
    "plt.xticks(rotation=90)\n",
    "plt.title('Target Type',size=20)\n",
    "\n",
    "plt.ylabel(\"Target type\",size=15)\n",
    "\n",
    "plt.show()"
   ]
  },
  {
   "cell_type": "markdown",
   "id": "055632f5",
   "metadata": {},
   "source": [
    "### Conclusion :- you can see above the most occurring target types..."
   ]
  },
  {
   "cell_type": "code",
   "execution_count": null,
   "id": "cb34bf32",
   "metadata": {},
   "outputs": [],
   "source": []
  },
  {
   "cell_type": "markdown",
   "id": "2db30898",
   "metadata": {},
   "source": [
    "## Analysis On India County "
   ]
  },
  {
   "cell_type": "code",
   "execution_count": 27,
   "id": "a1f14352",
   "metadata": {},
   "outputs": [
    {
     "data": {
      "text/html": [
       "<div>\n",
       "<style scoped>\n",
       "    .dataframe tbody tr th:only-of-type {\n",
       "        vertical-align: middle;\n",
       "    }\n",
       "\n",
       "    .dataframe tbody tr th {\n",
       "        vertical-align: top;\n",
       "    }\n",
       "\n",
       "    .dataframe thead th {\n",
       "        text-align: right;\n",
       "    }\n",
       "</style>\n",
       "<table border=\"1\" class=\"dataframe\">\n",
       "  <thead>\n",
       "    <tr style=\"text-align: right;\">\n",
       "      <th></th>\n",
       "      <th>Year</th>\n",
       "      <th>Month</th>\n",
       "      <th>Day</th>\n",
       "      <th>Country</th>\n",
       "      <th>Country_Name</th>\n",
       "      <th>State</th>\n",
       "      <th>Region</th>\n",
       "      <th>City</th>\n",
       "      <th>Latitude</th>\n",
       "      <th>Longitude</th>\n",
       "      <th>Attack_type</th>\n",
       "      <th>Target_type</th>\n",
       "      <th>Target1</th>\n",
       "      <th>Gang_name</th>\n",
       "      <th>Weapon_type</th>\n",
       "      <th>Kills</th>\n",
       "      <th>wound</th>\n",
       "    </tr>\n",
       "  </thead>\n",
       "  <tbody>\n",
       "    <tr>\n",
       "      <th>1186</th>\n",
       "      <td>1972</td>\n",
       "      <td>2</td>\n",
       "      <td>22</td>\n",
       "      <td>92</td>\n",
       "      <td>India</td>\n",
       "      <td>Delhi</td>\n",
       "      <td>South Asia</td>\n",
       "      <td>New Delhi</td>\n",
       "      <td>28.585836</td>\n",
       "      <td>77.153336</td>\n",
       "      <td>Hijacking</td>\n",
       "      <td>Airports &amp; Aircraft</td>\n",
       "      <td>B-747</td>\n",
       "      <td>Palestinians</td>\n",
       "      <td>Explosives</td>\n",
       "      <td>0</td>\n",
       "      <td>0</td>\n",
       "    </tr>\n",
       "    <tr>\n",
       "      <th>2764</th>\n",
       "      <td>1975</td>\n",
       "      <td>1</td>\n",
       "      <td>2</td>\n",
       "      <td>92</td>\n",
       "      <td>India</td>\n",
       "      <td>Bihar</td>\n",
       "      <td>South Asia</td>\n",
       "      <td>Samastipur</td>\n",
       "      <td>25.863042</td>\n",
       "      <td>85.781004</td>\n",
       "      <td>Bombing/Explosion</td>\n",
       "      <td>Government (General)</td>\n",
       "      <td>Lalit Narayan Mishra and a legislator</td>\n",
       "      <td>Ananda Marga</td>\n",
       "      <td>Explosives</td>\n",
       "      <td>4</td>\n",
       "      <td>0</td>\n",
       "    </tr>\n",
       "    <tr>\n",
       "      <th>3857</th>\n",
       "      <td>1976</td>\n",
       "      <td>5</td>\n",
       "      <td>26</td>\n",
       "      <td>92</td>\n",
       "      <td>India</td>\n",
       "      <td>Delhi</td>\n",
       "      <td>South Asia</td>\n",
       "      <td>New Delhi</td>\n",
       "      <td>28.585836</td>\n",
       "      <td>77.153336</td>\n",
       "      <td>Bombing/Explosion</td>\n",
       "      <td>Airports &amp; Aircraft</td>\n",
       "      <td>New Delhi airport</td>\n",
       "      <td>Unknown</td>\n",
       "      <td>Explosives</td>\n",
       "      <td>0</td>\n",
       "      <td>0</td>\n",
       "    </tr>\n",
       "    <tr>\n",
       "      <th>5327</th>\n",
       "      <td>1977</td>\n",
       "      <td>9</td>\n",
       "      <td>28</td>\n",
       "      <td>92</td>\n",
       "      <td>India</td>\n",
       "      <td>Maharashtra</td>\n",
       "      <td>South Asia</td>\n",
       "      <td>Bombay</td>\n",
       "      <td>19.075984</td>\n",
       "      <td>72.877656</td>\n",
       "      <td>Hijacking</td>\n",
       "      <td>Airports &amp; Aircraft</td>\n",
       "      <td>DC-8</td>\n",
       "      <td>Japanese Red Army (JRA)</td>\n",
       "      <td>Firearms</td>\n",
       "      <td>0</td>\n",
       "      <td>0</td>\n",
       "    </tr>\n",
       "    <tr>\n",
       "      <th>7337</th>\n",
       "      <td>1979</td>\n",
       "      <td>1</td>\n",
       "      <td>13</td>\n",
       "      <td>92</td>\n",
       "      <td>India</td>\n",
       "      <td>Assam</td>\n",
       "      <td>South Asia</td>\n",
       "      <td>Unknown</td>\n",
       "      <td>26.200605</td>\n",
       "      <td>92.937574</td>\n",
       "      <td>Armed Assault</td>\n",
       "      <td>Police</td>\n",
       "      <td>patrol</td>\n",
       "      <td>Naga People</td>\n",
       "      <td>Firearms</td>\n",
       "      <td>0</td>\n",
       "      <td>0</td>\n",
       "    </tr>\n",
       "  </tbody>\n",
       "</table>\n",
       "</div>"
      ],
      "text/plain": [
       "      Year  Month  Day  Country Country_Name        State      Region  \\\n",
       "1186  1972      2   22       92        India        Delhi  South Asia   \n",
       "2764  1975      1    2       92        India        Bihar  South Asia   \n",
       "3857  1976      5   26       92        India        Delhi  South Asia   \n",
       "5327  1977      9   28       92        India  Maharashtra  South Asia   \n",
       "7337  1979      1   13       92        India        Assam  South Asia   \n",
       "\n",
       "            City   Latitude  Longitude        Attack_type  \\\n",
       "1186   New Delhi  28.585836  77.153336          Hijacking   \n",
       "2764  Samastipur  25.863042  85.781004  Bombing/Explosion   \n",
       "3857   New Delhi  28.585836  77.153336  Bombing/Explosion   \n",
       "5327      Bombay  19.075984  72.877656          Hijacking   \n",
       "7337     Unknown  26.200605  92.937574      Armed Assault   \n",
       "\n",
       "               Target_type                                Target1  \\\n",
       "1186   Airports & Aircraft                                  B-747   \n",
       "2764  Government (General)  Lalit Narayan Mishra and a legislator   \n",
       "3857   Airports & Aircraft                      New Delhi airport   \n",
       "5327   Airports & Aircraft                                   DC-8   \n",
       "7337                Police                                 patrol   \n",
       "\n",
       "                    Gang_name Weapon_type  Kills  wound  \n",
       "1186             Palestinians  Explosives      0      0  \n",
       "2764             Ananda Marga  Explosives      4      0  \n",
       "3857                  Unknown  Explosives      0      0  \n",
       "5327  Japanese Red Army (JRA)    Firearms      0      0  \n",
       "7337              Naga People    Firearms      0      0  "
      ]
     },
     "execution_count": 27,
     "metadata": {},
     "output_type": "execute_result"
    }
   ],
   "source": [
    "india = data[data.Country_Name=='India']\n",
    "india.head()"
   ]
  },
  {
   "cell_type": "code",
   "execution_count": null,
   "id": "726a9048",
   "metadata": {},
   "outputs": [],
   "source": []
  },
  {
   "cell_type": "code",
   "execution_count": 28,
   "id": "c0f9d6e5",
   "metadata": {},
   "outputs": [
    {
     "data": {
      "text/plain": [
       "Text(0, 0.5, 'Counts')"
      ]
     },
     "execution_count": 28,
     "metadata": {},
     "output_type": "execute_result"
    },
    {
     "data": {
      "image/png": "[encoded data removed]",
      "text/plain": [
       "<Figure size 1440x432 with 1 Axes>"
      ]
     },
     "metadata": {
      "needs_background": "light"
     },
     "output_type": "display_data"
    }
   ],
   "source": [
    "plt.figure(figsize=(20,6))\n",
    "sns.barplot(y=india.Year.value_counts().values,x=india.Year.value_counts().index,palette='rocket_r')\n",
    "plt.xticks(rotation=90)\n",
    "plt.title('Terror Attacks in India Year Wise',size=15)\n",
    "plt.xlabel(\"Year\")\n",
    "plt.ylabel(\"Counts\")"
   ]
  },
  {
   "cell_type": "markdown",
   "id": "127cd679",
   "metadata": {},
   "source": [
    "### Conclusion:- The highest number of attacks in India was in 2016"
   ]
  },
  {
   "cell_type": "code",
   "execution_count": null,
   "id": "4d211948",
   "metadata": {},
   "outputs": [],
   "source": []
  },
  {
   "cell_type": "code",
   "execution_count": 30,
   "id": "7c97fc31",
   "metadata": {},
   "outputs": [
    {
     "data": {
      "text/plain": [
       "Text(0, 0.5, 'Counts')"
      ]
     },
     "execution_count": 30,
     "metadata": {},
     "output_type": "execute_result"
    },
    {
     "data": {
      "image/png": "[encoded data removed]",
      "text/plain": [
       "<Figure size 1440x432 with 1 Axes>"
      ]
     },
     "metadata": {
      "needs_background": "light"
     },
     "output_type": "display_data"
    }
   ],
   "source": [
    "plt.figure(figsize=(20,6))\n",
    "sns.barplot(y=india.City.value_counts().head(10).values,x=india.City.value_counts().head(10).index,palette='RdBu')\n",
    "plt.xticks(rotation=60)\n",
    "plt.title('Terror Attacks Cities in India',size=15)\n",
    "plt.xlabel(\"Year\")\n",
    "plt.ylabel(\"Counts\")"
   ]
  },
  {
   "cell_type": "markdown",
   "id": "e2b03af5",
   "metadata": {},
   "source": [
    "### Conclusion :- The highest number of attacks took place in Srinagar"
   ]
  },
  {
   "cell_type": "code",
   "execution_count": null,
   "id": "139ad3dc",
   "metadata": {},
   "outputs": [],
   "source": []
  },
  {
   "cell_type": "code",
   "execution_count": 31,
   "id": "29741de2",
   "metadata": {},
   "outputs": [
    {
     "data": {
      "image/png": "[encoded data removed]",
      "text/plain": [
       "<Figure size 360x360 with 1 Axes>"
      ]
     },
     "metadata": {},
     "output_type": "display_data"
    }
   ],
   "source": [
    "plt.figure(figsize=(5,5))\n",
    "\n",
    "india['Weapon_type'].value_counts()[:5].plot.pie(autopct=\"%1.1f%%\")\n",
    "plt.title('Most Used Weapon types in India')\n",
    "plt.show()"
   ]
  },
  {
   "cell_type": "markdown",
   "id": "e59100e0",
   "metadata": {},
   "source": [
    "### Conclusion- The most commonly used Weapon type in India  is explosives...\n"
   ]
  },
  {
   "cell_type": "code",
   "execution_count": null,
   "id": "e7c60108",
   "metadata": {},
   "outputs": [],
   "source": []
  },
  {
   "cell_type": "code",
   "execution_count": 32,
   "id": "815a1edf",
   "metadata": {},
   "outputs": [
    {
     "data": {
      "image/png": "[encoded data removed]",
      "text/plain": [
       "<Figure size 720x360 with 1 Axes>"
      ]
     },
     "metadata": {
      "needs_background": "light"
     },
     "output_type": "display_data"
    }
   ],
   "source": [
    "sns.barplot(india['Attack_type'].value_counts()[0:15].values,\n",
    "            india['Attack_type'].value_counts()[0:15].index,palette=('nipy_spectral_r'))\n",
    "plt.xticks(rotation=90)\n",
    "fig=plt.gcf()\n",
    "fig.set_size_inches(10,5)\n",
    "plt.title('Terrorist  attacks Type In india')\n",
    "plt.show()"
   ]
  },
  {
   "cell_type": "markdown",
   "id": "0e216871",
   "metadata": {},
   "source": [
    "### conclusion :- Bombings / Explosive  is the most common type of attack employed by terrorist organization "
   ]
  },
  {
   "cell_type": "code",
   "execution_count": null,
   "id": "f55be399",
   "metadata": {},
   "outputs": [],
   "source": []
  },
  {
   "cell_type": "code",
   "execution_count": 55,
   "id": "29eba5d4",
   "metadata": {},
   "outputs": [
    {
     "data": {
      "image/png": "[encoded data removed]",
      "text/plain": [
       "<Figure size 720x360 with 1 Axes>"
      ]
     },
     "metadata": {
      "needs_background": "light"
     },
     "output_type": "display_data"
    }
   ],
   "source": [
    "sns.barplot(india['Target_type'].value_counts()[0:11].values,\n",
    "            india['Target_type'].value_counts()[0:11].index,palette=('RdBu'))\n",
    "plt.xticks(rotation=90)\n",
    "fig=plt.gcf()\n",
    "fig.set_size_inches(10,5)\n",
    "plt.title('Terrorist with highest target type attacks')\n",
    "plt.show()"
   ]
  },
  {
   "cell_type": "code",
   "execution_count": null,
   "id": "dd1566b7",
   "metadata": {},
   "outputs": [],
   "source": []
  },
  {
   "cell_type": "code",
   "execution_count": 33,
   "id": "5d9f9229",
   "metadata": {},
   "outputs": [
    {
     "data": {
      "image/png": "[encoded data removed]",
      "text/plain": [
       "<Figure size 720x360 with 1 Axes>"
      ]
     },
     "metadata": {
      "needs_background": "light"
     },
     "output_type": "display_data"
    }
   ],
   "source": [
    "sns.barplot(india['Gang_name'].value_counts()[0:11].values,india['Gang_name'].value_counts()[0:11].index,palette=('gnuplot2_r'))\n",
    "plt.xticks(rotation=90)\n",
    "fig=plt.gcf()\n",
    "fig.set_size_inches(10,5)\n",
    "plt.title('Terrorist Gang with highest attacks')\n",
    "plt.show()"
   ]
  },
  {
   "cell_type": "markdown",
   "id": "3c26b994",
   "metadata": {},
   "source": [
    "#### conclusion  :- The communist party of India - Maoist (CPI-Maoist) has carried the largest number of terror attaks in India since 1970 follwed by Sikh exetremists and ULFA"
   ]
  },
  {
   "cell_type": "code",
   "execution_count": 34,
   "id": "22935806",
   "metadata": {},
   "outputs": [
    {
     "data": {
      "text/plain": [
       "Index(['Year', 'Month', 'Day', 'Country', 'Country_Name', 'State', 'Region',\n",
       "       'City', 'Latitude', 'Longitude', 'Attack_type', 'Target_type',\n",
       "       'Target1', 'Gang_name', 'Weapon_type', 'Kills', 'wound'],\n",
       "      dtype='object')"
      ]
     },
     "execution_count": 34,
     "metadata": {},
     "output_type": "execute_result"
    }
   ],
   "source": [
    "data.columns"
   ]
  },
  {
   "cell_type": "markdown",
   "id": "25909c2e",
   "metadata": {},
   "source": [
    "## Final Conclusion "
   ]
  },
  {
   "cell_type": "code",
   "execution_count": null,
   "id": "211fdfcc",
   "metadata": {},
   "outputs": [],
   "source": []
  },
  {
   "cell_type": "code",
   "execution_count": 58,
   "id": "24dc772a",
   "metadata": {},
   "outputs": [
    {
     "name": "stdout",
     "output_type": "stream",
     "text": [
      "-----------------------------------Final Conclusion--------------------------------------\n",
      "Country With Maximum Attacks: Iraq\n",
      "\n",
      "\n",
      "Maximum people Killed in terrorism attacks :  1570\n",
      "\n",
      "\n",
      "Maximum people wound in terrorism attacks :  8191\n",
      "\n",
      "\n",
      "Most Weapon Types Used in Attack:  Explosives\n",
      "\n",
      "\n",
      "Groups with most attacks:  Taliban\n",
      "\n",
      "\n",
      "The year in which the most attacks took place:  2014\n",
      "\n",
      "\n",
      "Most  Target Types Used in Attack:  Private Citizens & Property\n",
      "\n",
      "\n",
      "Most attacked city in India:  Srinagar\n",
      "\n",
      "\n",
      "Most Killed in India:  188\n",
      "\n",
      "\n",
      "Most  Target  Types Used  in India:  Private Citizens & Property\n",
      "\n",
      "\n",
      "Most Weapons Types Used  in India:  Explosives\n",
      "\n",
      "\n"
     ]
    }
   ],
   "source": [
    "print(\"-----------------------------------Final Conclusion--------------------------------------\")\n",
    "print('Country With Maximum Attacks:',data['Country_Name'].value_counts().idxmax())\n",
    "print(\"\\n\")\n",
    "print('Maximum people Killed in terrorism attacks : ',data['Kills'].max())\n",
    "print('\\n')\n",
    "print('Maximum people wound in terrorism attacks : ',data['wound'].max())\n",
    "print('\\n')\n",
    "print('Most Weapon Types Used in Attack: ',data['Weapon_type'].value_counts().idxmax())\n",
    "print('\\n')\n",
    "print('Groups with most attacks: ',data['Gang_name'].value_counts().index[1])\n",
    "print('\\n') \n",
    "print('The year in which the most attacks took place: ',data['Year'].value_counts().idxmax())\n",
    "print('\\n')\n",
    "print('Most  Target Types Used in Attack: ',data['Target_type'].value_counts().idxmax())\n",
    "print('\\n')\n",
    "print('Most attacked city in India: ',india['City'].value_counts().idxmax())\n",
    "print('\\n')\n",
    "print('Most Killed in India: ',india['Kills'].max())\n",
    "print('\\n')\n",
    "print('Most  Target  Types Used  in India: ',india['Target_type'].value_counts().idxmax())\n",
    "print('\\n')\n",
    "print('Most Weapons Types Used  in India: ',india['Weapon_type'].value_counts().idxmax())\n",
    "print('\\n')"
   ]
  }
 ],
 "metadata": {
  "kernelspec": {
   "display_name": "Python 3 (ipykernel)",
   "language": "python",
   "name": "python3"
  },
  "language_info": {
   "codemirror_mode": {
    "name": "ipython",
    "version": 3
   },
   "file_extension": ".py",
   "mimetype": "text/x-python",
   "name": "python",
   "nbconvert_exporter": "python",
   "pygments_lexer": "ipython3",
   "version": "3.9.7"
  }
 },
 "nbformat": 4,
 "nbformat_minor": 5
}
